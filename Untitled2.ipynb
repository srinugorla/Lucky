{
  "nbformat": 4,
  "nbformat_minor": 0,
  "metadata": {
    "colab": {
      "provenance": [],
      "collapsed_sections": [],
      "authorship_tag": "ABX9TyOpxAld3I7YChBWszrRW2s4",
      "include_colab_link": true
    },
    "kernelspec": {
      "name": "python3",
      "display_name": "Python 3"
    },
    "language_info": {
      "name": "python"
    }
  },
  "cells": [
    {
      "cell_type": "markdown",
      "metadata": {
        "id": "view-in-github",
        "colab_type": "text"
      },
      "source": [
        "<a href=\"https://colab.research.google.com/github/srinugorla/Lucky/blob/master/Untitled2.ipynb\" target=\"_parent\"><img src=\"https://colab.research.google.com/assets/colab-badge.svg\" alt=\"Open In Colab\"/></a>"
      ]
    },
    {
      "cell_type": "code",
      "execution_count": null,
      "metadata": {
        "colab": {
          "base_uri": "https://localhost:8080/"
        },
        "id": "0iPs2LdfIr3s",
        "outputId": "1bc733ae-d812-4ccd-ce34-fc258acb87d5"
      },
      "outputs": [
        {
          "output_type": "stream",
          "name": "stdout",
          "text": [
            "5\n"
          ]
        }
      ],
      "source": [
        "list_of_numbers = [1, 2, 3, 44, 5]\n",
        "print(len(list_of_numbers))"
      ]
    },
    {
      "cell_type": "markdown",
      "source": [
        "# New Section"
      ],
      "metadata": {
        "id": "3tFCNIW1K0gK"
      }
    },
    {
      "cell_type": "code",
      "source": [],
      "metadata": {
        "id": "BN0oqmOQK-Og"
      },
      "execution_count": null,
      "outputs": []
    },
    {
      "cell_type": "code",
      "source": [
        "import os\n",
        "new_file= open('/content/dummy.txt','r')\n",
        "\n",
        "print(new_file.readlines())\n",
        "      \n",
        "\n",
        "new_file.close()\n"
      ],
      "metadata": {
        "colab": {
          "base_uri": "https://localhost:8080/"
        },
        "id": "fi5mltkCK_ST",
        "outputId": "6cfa3013-2bcd-434a-a9c1-58c49c8a7437"
      },
      "execution_count": 10,
      "outputs": [
        {
          "output_type": "stream",
          "name": "stdout",
          "text": [
            "['Hi How are you?']\n"
          ]
        }
      ]
    },
    {
      "cell_type": "code",
      "source": [
        "print(list_of_numbers[3])\n",
        "print(list_of_numbers[0])"
      ],
      "metadata": {
        "colab": {
          "base_uri": "https://localhost:8080/"
        },
        "id": "eQccAbF9I3Ij",
        "outputId": "2ea4472c-1e28-4ad6-c909-85be2b45dfe1"
      },
      "execution_count": null,
      "outputs": [
        {
          "output_type": "stream",
          "name": "stdout",
          "text": [
            "44\n",
            "1\n"
          ]
        }
      ]
    },
    {
      "cell_type": "code",
      "source": [
        "import time\n",
        "\n",
        "for element in list_of_numbers: #this line is using the list_of_numbers created in a previous chunk of code.\n",
        "    print(element)\n",
        "    time.sleep(2)  #this time.sleep() function delays the execution time by 2 seconds."
      ],
      "metadata": {
        "colab": {
          "base_uri": "https://localhost:8080/"
        },
        "id": "-Z4d0vL2I6KX",
        "outputId": "9fa95bf7-fea4-4409-8846-940f18948058"
      },
      "execution_count": null,
      "outputs": [
        {
          "output_type": "stream",
          "name": "stdout",
          "text": [
            "1\n",
            "2\n",
            "3\n",
            "44\n",
            "5\n"
          ]
        }
      ]
    },
    {
      "cell_type": "code",
      "source": [
        "def print_main_window():\n",
        "    os.system('clear')\n",
        "    print(\"\\t********************************************\")\n",
        "    print(\"\\t***  Manipulating a List! There we go     **\")\n",
        "    print(\"\\t********************************************\")\n",
        "    print(\"\\n\\n\\n\") #3 line breaks\n",
        "    print(\"Choose an option as follows: \")\n",
        "    print(\"[1] Add a number to the list\")\n",
        "    print(\"[2] List the numbers\")\n",
        "    print(\"[3] Clear the list\")\n",
        "    print(\"[4] EXIT\")"
      ],
      "metadata": {
        "id": "VQ_xXrh8I9Vv"
      },
      "execution_count": null,
      "outputs": []
    },
    {
      "cell_type": "code",
      "source": [
        "def list_the_numbers (list1):\n",
        "    print(\"This list contains \", len(list1), \" elements, as follows:\")\n",
        "    for element in list1:\n",
        "        print (element)"
      ],
      "metadata": {
        "id": "UGGBRAOeJGbf"
      },
      "execution_count": null,
      "outputs": []
    },
    {
      "cell_type": "code",
      "source": [
        "import os\n",
        "\n",
        "list_numbers = []\n",
        "\n",
        "while (True):\n",
        "    print_main_window()\n",
        "    option = int(input(\"Your option: \"))\n",
        "    if (option == 1):\n",
        "        number = int(input(\"Type the number you want to add: \"))\n",
        "        list_numbers.append(number)\n",
        "        print(number, \" added to your list\")\n",
        "    elif (option == 2):\n",
        "        list_the_numbers(list_numbers)\n",
        "    elif (option == 3):\n",
        "        list_numbers.clear()\n",
        "        print(\"The list is now empty!\")\n",
        "    elif (option == 4):\n",
        "        print(\"Thanks for using our application\")\n",
        "        break\n",
        "    else:\n",
        "        print (\"Invalid option. \")"
      ],
      "metadata": {
        "id": "r2ooswrMJKX2",
        "outputId": "991ebdb6-f8cd-4a30-a48d-8bb0594e2026",
        "colab": {
          "base_uri": "https://localhost:8080/"
        }
      },
      "execution_count": null,
      "outputs": [
        {
          "output_type": "stream",
          "name": "stdout",
          "text": [
            "\t********************************************\n",
            "\t***  Manipulating a List! There we go     **\n",
            "\t********************************************\n",
            "\n",
            "\n",
            "\n",
            "\n",
            "Choose an option as follows: \n",
            "[1] Add a number to the list\n",
            "[2] List the numbers\n",
            "[3] Clear the list\n",
            "[4] EXIT\n",
            "Your option: 1\n",
            "Type the number you want to add: 12\n",
            "12  added to your list\n",
            "\t********************************************\n",
            "\t***  Manipulating a List! There we go     **\n",
            "\t********************************************\n",
            "\n",
            "\n",
            "\n",
            "\n",
            "Choose an option as follows: \n",
            "[1] Add a number to the list\n",
            "[2] List the numbers\n",
            "[3] Clear the list\n",
            "[4] EXIT\n",
            "Your option: 4\n",
            "Thanks for using our application\n"
          ]
        }
      ]
    }
  ]
}