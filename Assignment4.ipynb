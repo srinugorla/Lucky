{
  "nbformat": 4,
  "nbformat_minor": 0,
  "metadata": {
    "colab": {
      "provenance": [],
      "authorship_tag": "ABX9TyPJ8dhZu5CcWZiQ1RYQ99Xr",
      "include_colab_link": true
    },
    "kernelspec": {
      "name": "python3",
      "display_name": "Python 3"
    },
    "language_info": {
      "name": "python"
    }
  },
  "cells": [
    {
      "cell_type": "markdown",
      "metadata": {
        "id": "view-in-github",
        "colab_type": "text"
      },
      "source": [
        "<a href=\"https://colab.research.google.com/github/srinugorla/Lucky/blob/master/Assignment4.ipynb\" target=\"_parent\"><img src=\"https://colab.research.google.com/assets/colab-badge.svg\" alt=\"Open In Colab\"/></a>"
      ]
    },
    {
      "cell_type": "markdown",
      "source": [
        "## **Homework Assignment 4**\n",
        "\n",
        "Names:\n",
        "- Srinu Gorla [link to code base](https://github.com/srinugorla/INF502)\n",
        "- Ramesh Sirigenedi [link to code base](https://github.com/Rs2774/inf502)\n"
      ],
      "metadata": {
        "id": "C4pk9-KKiBZp"
      }
    },
    {
      "cell_type": "markdown",
      "metadata": {
        "id": "TnqwzJgQ2dP1"
      },
      "source": [
        "# Part 1 - getting and exploring data"
      ]
    },
    {
      "cell_type": "markdown",
      "source": [
        " **Step 1 : importing pandas library**"
      ],
      "metadata": {
        "id": "Z0xT435MQ2He"
      }
    },
    {
      "cell_type": "code",
      "execution_count": 3,
      "metadata": {
        "id": "xC1SiF3EONLA"
      },
      "outputs": [],
      "source": [
        "import pandas as pd\n",
        "# referencing the library name as 'pd'"
      ]
    },
    {
      "cell_type": "markdown",
      "source": [
        "**Step 2: importing the dataset from the given URL**"
      ],
      "metadata": {
        "id": "Y-qfEH_iRLmx"
      }
    },
    {
      "cell_type": "code",
      "source": [
        "dataset= pd.read_csv('https://raw.githubusercontent.com/justmarkham/DAT8/master/data/u.user', sep='|')\n",
        "\n",
        "# read_csv function is used to imports a CSV file to a DataFrame format"
      ],
      "metadata": {
        "id": "L91YSN-GOnmu"
      },
      "execution_count": 4,
      "outputs": []
    },
    {
      "cell_type": "markdown",
      "source": [
        "**Step 3: Assign the dataset to a variable called users and use the user_id as the index**"
      ],
      "metadata": {
        "id": "rGll1R1qRi8F"
      }
    },
    {
      "cell_type": "code",
      "source": [
        "# The set_index() method allows one or more column values become the row index.\n",
        "users =dataset.set_index('user_id')\n",
        "\n",
        "#           OR\n",
        "\n",
        "# we can also specify which column number is used as index column while importing csv itself as below\n",
        "# pnd.read_csv('https://raw.githubusercontent.com/justmarkham/DAT8/master/data/u.user', sep='|',index_col=0)\n",
        "\n"
      ],
      "metadata": {
        "id": "JWMMJ2nlPVym"
      },
      "execution_count": 5,
      "outputs": []
    },
    {
      "cell_type": "markdown",
      "source": [
        "**Step 4: See the first 25 entries**"
      ],
      "metadata": {
        "id": "Am_62O9gRyeF"
      }
    },
    {
      "cell_type": "code",
      "source": [
        "# The head() method returns a specified number of rows, string from the top\n",
        "\n",
        "users.head(25)\n",
        "\n",
        "# OR\n",
        "\n",
        "# we can also use slicing operator\n",
        "\n",
        "# users[:25]"
      ],
      "metadata": {
        "id": "LmxQpim_QsP2"
      },
      "execution_count": null,
      "outputs": []
    },
    {
      "cell_type": "markdown",
      "source": [
        "**Step 5: See the last 10 entries**"
      ],
      "metadata": {
        "id": "VCKZfbXCR92_"
      }
    },
    {
      "cell_type": "code",
      "execution_count": null,
      "metadata": {
        "scrolled": true,
        "id": "U4Eip3c62dP4"
      },
      "outputs": [],
      "source": [
        "# tail() returns the last n rows\n",
        "\n",
        "users.tail(10)\n",
        "\n",
        "# OR \n",
        "\n",
        "# users[-10:]"
      ]
    },
    {
      "cell_type": "markdown",
      "metadata": {
        "id": "U9xnnRBV2dP4"
      },
      "source": [
        "**Step 6: What is the number of observations in the dataset?**\n",
        "\n"
      ]
    },
    {
      "cell_type": "code",
      "execution_count": null,
      "metadata": {
        "id": "3mJ_lzWi2dP4"
      },
      "outputs": [],
      "source": [
        "# shape attribute in Pandas enables us to obtain the shape of a DataFrame. \n",
        "# For example, if a DataFrame has a shape of (40, 10) , this implies that the DataFrame is made up of 40 rows and 10 columns of data.\n",
        "# index 0 return number of rows in the DaraFrame\n",
        "\n",
        "users.shape[0]"
      ]
    },
    {
      "cell_type": "markdown",
      "metadata": {
        "id": "r35k7KqG2dP4"
      },
      "source": [
        "**Step 7: What is the number of columns in the dataset?**"
      ]
    },
    {
      "cell_type": "code",
      "execution_count": null,
      "metadata": {
        "id": "eS8a313_2dP5"
      },
      "outputs": [],
      "source": [
        "# index 1 retuns number of columns in the DataFrame\n",
        "users.shape[1]"
      ]
    },
    {
      "cell_type": "markdown",
      "metadata": {
        "id": "p6LZYLqG2dP5"
      },
      "source": [
        "**Step 8: Print the name of all the columns.**"
      ]
    },
    {
      "cell_type": "code",
      "execution_count": null,
      "metadata": {
        "id": "v09NmN8Q2dP5"
      },
      "outputs": [],
      "source": [
        "# .columns is used to get the column names(as an Index Object) from DataFrame, list() function is used to get it as list\n",
        "\n",
        "list(users.columns)"
      ]
    },
    {
      "cell_type": "markdown",
      "metadata": {
        "id": "YMgpVu6O2dP5"
      },
      "source": [
        "**Step 9: How is the dataset indexed?**"
      ]
    },
    {
      "cell_type": "code",
      "execution_count": null,
      "metadata": {
        "id": "MDhKBX_E2dP5"
      },
      "outputs": [],
      "source": [
        "#write your code here\n",
        "\n",
        "# users.index  ..........??????????????"
      ]
    },
    {
      "cell_type": "markdown",
      "metadata": {
        "id": "9LEr2-R92dP5"
      },
      "source": [
        "**Step 10: What is the data type of each column?**"
      ]
    },
    {
      "cell_type": "code",
      "execution_count": null,
      "metadata": {
        "id": "-fJH53Eg2dP5"
      },
      "outputs": [],
      "source": [
        "# dtypes is used to get the data types of all the columns in a data frame\n",
        "users.dtypes"
      ]
    },
    {
      "cell_type": "markdown",
      "metadata": {
        "id": "bdVcFODT2dP5"
      },
      "source": [
        "**Step 11: Print only the occupation column**"
      ]
    },
    {
      "cell_type": "code",
      "execution_count": null,
      "metadata": {
        "id": "Jx6vFM982dP5"
      },
      "outputs": [],
      "source": [
        "users.occupation\n",
        "\n",
        "# OR\n",
        "\n",
        "# users['occupation']"
      ]
    },
    {
      "cell_type": "markdown",
      "metadata": {
        "id": "VFOm7Dos2dP6"
      },
      "source": [
        "**Step 12: How many different occupations there are in this dataset?**"
      ]
    },
    {
      "cell_type": "code",
      "execution_count": null,
      "metadata": {
        "id": "8u0zbdPB2dP6"
      },
      "outputs": [],
      "source": [
        "#write your code here\n",
        "\n",
        "# unique() is used to get the distinct values from the data frame\n",
        "# len() is used to count each element in the given series\n",
        "\n",
        "len(users.occupation.unique())\n",
        "\n",
        "# OR\n",
        "# we can use nunique() which returns the number of unique values for a given column.\n",
        "# users.occupation.nunique()"
      ]
    },
    {
      "cell_type": "markdown",
      "metadata": {
        "id": "x7XucUWS2dP6"
      },
      "source": [
        "**Step 13: What is the most frequent occupation?**"
      ]
    },
    {
      "cell_type": "code",
      "execution_count": null,
      "metadata": {
        "id": "H8MRV2pC2dP6"
      },
      "outputs": [],
      "source": [
        "\n",
        "# idxmax() method returns the index of the first occurrence of maximum in a column\n",
        "\n",
        "users.occupation.value_counts().idxmax()\n",
        "\n",
        "# OR\n",
        "# we can also use mode() , which return the highest frequency value in a Series\n",
        "# dataset.occupation.mode()[0]"
      ]
    },
    {
      "cell_type": "markdown",
      "metadata": {
        "id": "LhE7O-Hw2dP6"
      },
      "source": [
        "**Step 14: Summarize the DataFrame.**"
      ]
    },
    {
      "cell_type": "code",
      "execution_count": null,
      "metadata": {
        "id": "WFizamQQ2dP6"
      },
      "outputs": [],
      "source": [
        "# The info() method prints information about the DataFrame\n",
        "users.info()\n",
        "\n",
        "# By seeing the data we can say it has 942 rows and 4 columns[age , gender, occupation, zip_code]\n",
        "# among them age coulmn is of type int64, and rest all are of object type\n",
        "# every column consists of 943 not null values\n"
      ]
    },
    {
      "cell_type": "markdown",
      "metadata": {
        "id": "Oqm3ip5z2dP6"
      },
      "source": [
        "**Step 15: Summarize all the columns**"
      ]
    },
    {
      "cell_type": "code",
      "execution_count": null,
      "metadata": {
        "id": "sxkzX0cF2dP6"
      },
      "outputs": [],
      "source": [
        "# The describe() function computes a summary of statistics\n",
        "# This function gives the mean, std and IQR values.\n",
        "dataset.describe(include='all')"
      ]
    },
    {
      "cell_type": "markdown",
      "metadata": {
        "id": "D8_Loplh2dP6"
      },
      "source": [
        "**Step 16: Summarize only the occupation column**"
      ]
    },
    {
      "cell_type": "code",
      "execution_count": null,
      "metadata": {
        "id": "V2p-2wsm2dP7"
      },
      "outputs": [],
      "source": [
        "users.occupation.describe()\n",
        "# By the output we can inspect that it has 943 entries\n",
        "# 21 unique occupations\n",
        "# most frequent occupation is student, 196 of 943 entries are students\n"
      ]
    },
    {
      "cell_type": "markdown",
      "metadata": {
        "id": "F2WhtkqT2dP7"
      },
      "source": [
        "**Step 17: What is the mean age of users?**"
      ]
    },
    {
      "cell_type": "code",
      "execution_count": null,
      "metadata": {
        "id": "7anlZYts2dP7"
      },
      "outputs": [],
      "source": [
        "# mean() function is used to get the average/mean of the values over the requested axis\n",
        "users.age.mean()"
      ]
    },
    {
      "cell_type": "markdown",
      "metadata": {
        "id": "nJE5bbx12dP7"
      },
      "source": [
        "**Step 18: What is the age with least occurrence?**"
      ]
    },
    {
      "cell_type": "code",
      "execution_count": null,
      "metadata": {
        "id": "kwc2jg-x2dP7"
      },
      "outputs": [],
      "source": []
    },
    {
      "cell_type": "markdown",
      "metadata": {
        "id": "ohNwk_KO_ZfE"
      },
      "source": [
        "# Part 2 - Visualization with Chipotle's Data"
      ]
    },
    {
      "cell_type": "markdown",
      "metadata": {
        "id": "rKk9poxq_ZfF"
      },
      "source": [
        "**Step 1: Import the necessary libraries**"
      ]
    },
    {
      "cell_type": "code",
      "execution_count": 56,
      "metadata": {
        "id": "9067DaZD_ZfG"
      },
      "outputs": [],
      "source": [
        "import pandas as pd\n",
        "# referencing the library name as 'pd'"
      ]
    },
    {
      "cell_type": "markdown",
      "metadata": {
        "id": "c-Nq8zAq_ZfH"
      },
      "source": [
        "**Step 2: Import the dataset chipotle.tsv**"
      ]
    },
    {
      "cell_type": "code",
      "execution_count": 61,
      "metadata": {
        "id": "tx6t6nHR_ZfH"
      },
      "outputs": [],
      "source": [
        "# read_csv function is used to imports a CSV file to a DataFrame format\n",
        "chipotle_data= pd.read_csv('chipotle.tsv',sep='\\t')"
      ]
    },
    {
      "cell_type": "markdown",
      "metadata": {
        "id": "scq3xWVt_ZfH"
      },
      "source": [
        "**Step 3: Assign it to a variable called `chipo`.**"
      ]
    },
    {
      "cell_type": "code",
      "execution_count": 62,
      "metadata": {
        "id": "Y9_sSOIb_ZfI"
      },
      "outputs": [],
      "source": [
        "# assigned the dataset to variable name 'chipo'\n",
        "chipo = chipotle_data"
      ]
    },
    {
      "cell_type": "markdown",
      "source": [
        "**Step 4: Show the average of the column `item_price`**"
      ],
      "metadata": {
        "id": "f_ioEubM_w8b"
      }
    },
    {
      "cell_type": "code",
      "source": [
        "# mean() function is used to get the average/mean of the values over the requested axis\n",
        "chipo.item_price.mean()"
      ],
      "metadata": {
        "id": "MYgSxifV_6PR"
      },
      "execution_count": null,
      "outputs": []
    },
    {
      "cell_type": "markdown",
      "source": [
        "**Step 5: Count the number of occurrences for `\"Chicken Bowl\"`**"
      ],
      "metadata": {
        "id": "XtJKEs1f_7Ap"
      }
    },
    {
      "cell_type": "code",
      "source": [
        "# value_counts() return a series containing counts of unique rows in the DataFrame\n",
        "# here we only want 'Chiken Bowl' so passing it as an index\n",
        "chipo.item_name.value_counts()['Chicken Bowl']\n",
        "\n",
        "# OR\n",
        "\n",
        "# we can also loop throught item_name column and count the occurences using a temp variable\n",
        "# cnt=0\n",
        "# for i in chipo.item_name:\n",
        "#   if i == 'Chicken Bowl':\n",
        "#     cnt=cnt+1\n",
        "\n",
        "# cnt\n",
        "\n"
      ],
      "metadata": {
        "id": "T0jObdNeAFmU"
      },
      "execution_count": null,
      "outputs": []
    },
    {
      "cell_type": "markdown",
      "source": [
        "**Step 6: Count the number of items with ``NULL``as the `choice_description`**"
      ],
      "metadata": {
        "id": "wbMOTcxuAF9c"
      }
    },
    {
      "cell_type": "code",
      "source": [
        "# isna() function replaces all the NA with a boolean value True\n",
        "# sum() is used to count all the true values\n",
        "# isna().sum() returns the number of missing values in each column.\n",
        "\n",
        "chipo.choice_description.isna().sum()\n",
        "\n",
        "# OR\n",
        "# len(chipo.choice_description) - chipo.choice_description.count()\n",
        "\n",
        "# len() method counts all the values for a give series\n",
        "# The count() method counts only the not empty values for a given series\n",
        "# subtracting of these two will give only NULL values\n"
      ],
      "metadata": {
        "id": "B8sFqcgu4OUe",
        "colab": {
          "base_uri": "https://localhost:8080/"
        },
        "outputId": "54f9ef3d-5a27-401e-8383-b701ac94814e"
      },
      "execution_count": 74,
      "outputs": [
        {
          "output_type": "execute_result",
          "data": {
            "text/plain": [
              "1246"
            ]
          },
          "metadata": {},
          "execution_count": 74
        }
      ]
    },
    {
      "cell_type": "markdown",
      "metadata": {
        "id": "QyFTgGz2_ZfI"
      },
      "source": [
        "**Step 7: Show the first 10 entries**"
      ]
    },
    {
      "cell_type": "code",
      "execution_count": null,
      "metadata": {
        "scrolled": false,
        "id": "hyAzAmHw_ZfJ"
      },
      "outputs": [],
      "source": [
        "# The head() method returns a specified number of rows, string from the top\n",
        "\n",
        "chipo.head(10)\n",
        "\n",
        "# OR\n",
        "\n",
        "# we can also use slicing operator\n",
        "\n",
        "# chipo[:10]"
      ]
    },
    {
      "cell_type": "markdown",
      "metadata": {
        "id": "pMKLqbNy_ZfJ"
      },
      "source": [
        "**Step 8: Create a bar plot of the top 5 items bought**"
      ]
    },
    {
      "cell_type": "code",
      "execution_count": null,
      "metadata": {
        "id": "mnwJQlOQ_ZfK"
      },
      "outputs": [],
      "source": [
        "#write your code here"
      ]
    },
    {
      "cell_type": "markdown",
      "metadata": {
        "id": "re1JmdT6_ZfK"
      },
      "source": [
        "**Step 9: Create a scatterplot with the number of items orderered per order price**"
      ]
    },
    {
      "cell_type": "code",
      "execution_count": null,
      "metadata": {
        "id": "4VjkwE9J_ZfK"
      },
      "outputs": [],
      "source": [
        "#write your code here"
      ]
    },
    {
      "cell_type": "code",
      "source": [
        "chipo.head(3)"
      ],
      "metadata": {
        "colab": {
          "base_uri": "https://localhost:8080/",
          "height": 143
        },
        "id": "8ILi1sXPQA23",
        "outputId": "ccb8cae3-ac7e-4683-90f5-1509d25ad5a3"
      },
      "execution_count": 76,
      "outputs": [
        {
          "output_type": "execute_result",
          "data": {
            "text/plain": [
              "   order_id  quantity                     item_name choice_description  \\\n",
              "0         1         1  Chips and Fresh Tomato Salsa                NaN   \n",
              "1         1         1                          Izze       [Clementine]   \n",
              "2         1         1              Nantucket Nectar            [Apple]   \n",
              "\n",
              "   item_price  \n",
              "0        2.39  \n",
              "1        3.39  \n",
              "2        3.39  "
            ],
            "text/html": [
              "\n",
              "  <div id=\"df-0cce3c95-aaf5-4e0b-a67e-f3be4b69aed3\">\n",
              "    <div class=\"colab-df-container\">\n",
              "      <div>\n",
              "<style scoped>\n",
              "    .dataframe tbody tr th:only-of-type {\n",
              "        vertical-align: middle;\n",
              "    }\n",
              "\n",
              "    .dataframe tbody tr th {\n",
              "        vertical-align: top;\n",
              "    }\n",
              "\n",
              "    .dataframe thead th {\n",
              "        text-align: right;\n",
              "    }\n",
              "</style>\n",
              "<table border=\"1\" class=\"dataframe\">\n",
              "  <thead>\n",
              "    <tr style=\"text-align: right;\">\n",
              "      <th></th>\n",
              "      <th>order_id</th>\n",
              "      <th>quantity</th>\n",
              "      <th>item_name</th>\n",
              "      <th>choice_description</th>\n",
              "      <th>item_price</th>\n",
              "    </tr>\n",
              "  </thead>\n",
              "  <tbody>\n",
              "    <tr>\n",
              "      <th>0</th>\n",
              "      <td>1</td>\n",
              "      <td>1</td>\n",
              "      <td>Chips and Fresh Tomato Salsa</td>\n",
              "      <td>NaN</td>\n",
              "      <td>2.39</td>\n",
              "    </tr>\n",
              "    <tr>\n",
              "      <th>1</th>\n",
              "      <td>1</td>\n",
              "      <td>1</td>\n",
              "      <td>Izze</td>\n",
              "      <td>[Clementine]</td>\n",
              "      <td>3.39</td>\n",
              "    </tr>\n",
              "    <tr>\n",
              "      <th>2</th>\n",
              "      <td>1</td>\n",
              "      <td>1</td>\n",
              "      <td>Nantucket Nectar</td>\n",
              "      <td>[Apple]</td>\n",
              "      <td>3.39</td>\n",
              "    </tr>\n",
              "  </tbody>\n",
              "</table>\n",
              "</div>\n",
              "      <button class=\"colab-df-convert\" onclick=\"convertToInteractive('df-0cce3c95-aaf5-4e0b-a67e-f3be4b69aed3')\"\n",
              "              title=\"Convert this dataframe to an interactive table.\"\n",
              "              style=\"display:none;\">\n",
              "        \n",
              "  <svg xmlns=\"http://www.w3.org/2000/svg\" height=\"24px\"viewBox=\"0 0 24 24\"\n",
              "       width=\"24px\">\n",
              "    <path d=\"M0 0h24v24H0V0z\" fill=\"none\"/>\n",
              "    <path d=\"M18.56 5.44l.94 2.06.94-2.06 2.06-.94-2.06-.94-.94-2.06-.94 2.06-2.06.94zm-11 1L8.5 8.5l.94-2.06 2.06-.94-2.06-.94L8.5 2.5l-.94 2.06-2.06.94zm10 10l.94 2.06.94-2.06 2.06-.94-2.06-.94-.94-2.06-.94 2.06-2.06.94z\"/><path d=\"M17.41 7.96l-1.37-1.37c-.4-.4-.92-.59-1.43-.59-.52 0-1.04.2-1.43.59L10.3 9.45l-7.72 7.72c-.78.78-.78 2.05 0 2.83L4 21.41c.39.39.9.59 1.41.59.51 0 1.02-.2 1.41-.59l7.78-7.78 2.81-2.81c.8-.78.8-2.07 0-2.86zM5.41 20L4 18.59l7.72-7.72 1.47 1.35L5.41 20z\"/>\n",
              "  </svg>\n",
              "      </button>\n",
              "      \n",
              "  <style>\n",
              "    .colab-df-container {\n",
              "      display:flex;\n",
              "      flex-wrap:wrap;\n",
              "      gap: 12px;\n",
              "    }\n",
              "\n",
              "    .colab-df-convert {\n",
              "      background-color: #E8F0FE;\n",
              "      border: none;\n",
              "      border-radius: 50%;\n",
              "      cursor: pointer;\n",
              "      display: none;\n",
              "      fill: #1967D2;\n",
              "      height: 32px;\n",
              "      padding: 0 0 0 0;\n",
              "      width: 32px;\n",
              "    }\n",
              "\n",
              "    .colab-df-convert:hover {\n",
              "      background-color: #E2EBFA;\n",
              "      box-shadow: 0px 1px 2px rgba(60, 64, 67, 0.3), 0px 1px 3px 1px rgba(60, 64, 67, 0.15);\n",
              "      fill: #174EA6;\n",
              "    }\n",
              "\n",
              "    [theme=dark] .colab-df-convert {\n",
              "      background-color: #3B4455;\n",
              "      fill: #D2E3FC;\n",
              "    }\n",
              "\n",
              "    [theme=dark] .colab-df-convert:hover {\n",
              "      background-color: #434B5C;\n",
              "      box-shadow: 0px 1px 3px 1px rgba(0, 0, 0, 0.15);\n",
              "      filter: drop-shadow(0px 1px 2px rgba(0, 0, 0, 0.3));\n",
              "      fill: #FFFFFF;\n",
              "    }\n",
              "  </style>\n",
              "\n",
              "      <script>\n",
              "        const buttonEl =\n",
              "          document.querySelector('#df-0cce3c95-aaf5-4e0b-a67e-f3be4b69aed3 button.colab-df-convert');\n",
              "        buttonEl.style.display =\n",
              "          google.colab.kernel.accessAllowed ? 'block' : 'none';\n",
              "\n",
              "        async function convertToInteractive(key) {\n",
              "          const element = document.querySelector('#df-0cce3c95-aaf5-4e0b-a67e-f3be4b69aed3');\n",
              "          const dataTable =\n",
              "            await google.colab.kernel.invokeFunction('convertToInteractive',\n",
              "                                                     [key], {});\n",
              "          if (!dataTable) return;\n",
              "\n",
              "          const docLinkHtml = 'Like what you see? Visit the ' +\n",
              "            '<a target=\"_blank\" href=https://colab.research.google.com/notebooks/data_table.ipynb>data table notebook</a>'\n",
              "            + ' to learn more about interactive tables.';\n",
              "          element.innerHTML = '';\n",
              "          dataTable['output_type'] = 'display_data';\n",
              "          await google.colab.output.renderOutput(dataTable, element);\n",
              "          const docLink = document.createElement('div');\n",
              "          docLink.innerHTML = docLinkHtml;\n",
              "          element.appendChild(docLink);\n",
              "        }\n",
              "      </script>\n",
              "    </div>\n",
              "  </div>\n",
              "  "
            ]
          },
          "metadata": {},
          "execution_count": 76
        }
      ]
    }
  ]
}